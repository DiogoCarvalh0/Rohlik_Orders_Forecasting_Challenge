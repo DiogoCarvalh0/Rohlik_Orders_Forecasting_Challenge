{
 "cells": [
  {
   "cell_type": "code",
   "execution_count": null,
   "metadata": {},
   "outputs": [],
   "source": [
    "import pandas as pd\n",
    "import numpy as np\n",
    "\n",
    "from sklearn.pipeline import Pipeline\n",
    "\n",
    "from core.feature_engineering import FE\n",
    "from core.label_encoder_wrapper import LabelEncoderWrapper\n",
    "from core.standard_scaler_wrapper import StandardScalerWrapper\n",
    "from core.tabnet_regressor_pandas_wrapper import TabNetRegressorPandasWrapper\n",
    "from core.mape import MAPE"
   ]
  },
  {
   "cell_type": "markdown",
   "metadata": {},
   "source": [
    "## Read Data"
   ]
  },
  {
   "cell_type": "code",
   "execution_count": null,
   "metadata": {},
   "outputs": [],
   "source": [
    "train = pd.read_csv(\"./data/raw_data/train.csv\", parse_dates=[\"date\"]).sort_values(by=\"date\")\n",
    "test = pd.read_csv(\"./data/raw_data/test_calendar.csv\", parse_dates=[\"date\"]).sort_values(by=\"date\")\n",
    "test_dates = pd.read_csv(\"./data/raw_data/test.csv\", parse_dates=[\"date\"]).sort_values(by=\"date\")\n",
    "submission = pd.read_csv(\"./data/raw_data/solution_example.csv\")"
   ]
  },
  {
   "cell_type": "code",
   "execution_count": null,
   "metadata": {},
   "outputs": [],
   "source": [
    "modelling_cols = list(test.columns) + ['orders']\n",
    "\n",
    "full_data = pd.concat([train, test], axis=0)\n",
    "full_data = full_data[modelling_cols]\n",
    "full_data"
   ]
  },
  {
   "cell_type": "markdown",
   "metadata": {},
   "source": [
    "## Feature Engineering\n",
    "\n",
    "Done with all data because of holidays in test sample (compute number of days until next holiday)"
   ]
  },
  {
   "cell_type": "code",
   "execution_count": null,
   "metadata": {},
   "outputs": [],
   "source": [
    "full_data.loc[full_data[\"holiday_name\"].isin([\"Whit sunday\", 'Ascension day']), \"holiday_name\"] = np.nan\n",
    "\n",
    "full_data = FE().fit_transform(full_data, full_data[\"orders\"])\n",
    "full_data"
   ]
  },
  {
   "cell_type": "code",
   "execution_count": null,
   "metadata": {},
   "outputs": [],
   "source": [
    "full_data = full_data.drop(\n",
    "    [\"holiday_name\", \"next_holiday_date\", \"past_holiday_date\"], axis=1\n",
    ")\n",
    "\n",
    "full_data[\"warehouse_date\"] = (\n",
    "    full_data[\"warehouse\"] + \"_\" + full_data[\"date\"].dt.strftime(\"%Y-%m-%d\")\n",
    ")\n",
    "\n",
    "submission_data = submission.merge(full_data, left_on=\"id\", right_on=\"warehouse_date\")\n",
    "\n",
    "# submission_data = full_data.loc[(full_data['date'] >= test_dates[\"date\"].min()) & (full_data['date'] <= test_dates[\"date\"].max())]\n",
    "full_data = full_data.dropna(axis=0)\n",
    "full_data"
   ]
  },
  {
   "cell_type": "markdown",
   "metadata": {},
   "source": [
    "## Train Test Split"
   ]
  },
  {
   "cell_type": "code",
   "execution_count": null,
   "metadata": {},
   "outputs": [],
   "source": [
    "X_train = full_data.loc[full_data['date'] <= pd.to_datetime('2024-01-01')]\n",
    "X_test = full_data.loc[full_data[\"date\"] > pd.to_datetime(\"2024-01-01\")]\n",
    "\n",
    "y_train = X_train['orders']\n",
    "y_test = X_test[\"orders\"]\n",
    "\n",
    "X_train = X_train.drop([\"date\", \"orders\", \"warehouse_date\"], axis=1)\n",
    "X_test = X_test.drop([\"date\", \"orders\", \"warehouse_date\"], axis=1)\n",
    "# submission_data = submission_data.drop([\"date\"], axis=1)"
   ]
  },
  {
   "cell_type": "markdown",
   "metadata": {},
   "source": [
    "## Model"
   ]
  },
  {
   "cell_type": "code",
   "execution_count": null,
   "metadata": {},
   "outputs": [],
   "source": [
    "categorical_features = [\n",
    "    \"holiday\",\n",
    "    \"shops_closed\",\n",
    "    \"winter_school_holidays\",\n",
    "    \"school_holidays\",\n",
    "    \"warehouse\",\n",
    "    \"year\",\n",
    "    \"month\",\n",
    "    \"day\",\n",
    "    \"week\",\n",
    "    \"dayofyear\",\n",
    "    \"dayofweek\",\n",
    "    \"is_weekend\",\n",
    "    \"next_holiday_name\",\n",
    "    \"past_holiday_name\",\n",
    "]\n",
    "\n",
    "numerical_features = list(set(X_train.columns) - set(categorical_features))"
   ]
  },
  {
   "cell_type": "code",
   "execution_count": null,
   "metadata": {},
   "outputs": [],
   "source": [
    "numerical_features"
   ]
  },
  {
   "cell_type": "code",
   "execution_count": null,
   "metadata": {},
   "outputs": [],
   "source": [
    "# # For some reason the Pipeline does not work...\n",
    "\n",
    "# pipeline = Pipeline(\n",
    "#     steps=[\n",
    "#         (\"label_encoder\", LabelEncoderWrapper(categorical_features)),\n",
    "#         (\n",
    "#             \"standard_scaler\",\n",
    "#             StandardScalerWrapper(\n",
    "#                 features=[\"days_until_next_holiday\", \"days_after_past_holiday\"]\n",
    "#             ),\n",
    "#         ),\n",
    "#         (\n",
    "#             \"tabnet_regressor\",\n",
    "#             TabNetRegressorPandasWrapper(\n",
    "#                 categorical_features=categorical_features,\n",
    "#                 n_d=64,  # from 8 to 64\n",
    "#                 n_a=64,  # equal n_d\n",
    "#                 n_steps=3,  # bwtween 3 and 10\n",
    "#                 gamma=1.3,  # between 1 and 2\n",
    "#                 n_independent=5,  # from 1 to 5\n",
    "#                 n_shared=5,  # from 1 to 5\n",
    "#                 seed=42,\n",
    "#                 verbose=1,\n",
    "#             ),\n",
    "#         ),\n",
    "#     ]\n",
    "# )\n",
    "\n",
    "# pipeline.fit(\n",
    "#     X_train,\n",
    "#     y_train,\n",
    "#     tabnet_regressor__max_epochs=50,\n",
    "#     # tabnet_regressor__eval_set=[\n",
    "#     #     (X_train.values, y_train.values.reshape(-1, 1)),\n",
    "#     #     (X_test.values, y_test.values.reshape(-1, 1)),\n",
    "#     # ],\n",
    "#     # tabnet_regressor__eval_name=[\"train\", \"valid\"],\n",
    "#     # tabnet_regressor__eval_metric=[\"mse\", MAPE],\n",
    "#     # tabnet_regressor__patience=10,\n",
    "#     tabnet_regressor__batch_size=6588,\n",
    "#     tabnet_regressor__virtual_batch_size=3294,  # Has to divide batch_size\n",
    "#     tabnet_regressor__drop_last=False,\n",
    "#     tabnet_regressor__compute_importance=False,\n",
    "# )\n",
    "\n",
    "# print('22')"
   ]
  },
  {
   "cell_type": "code",
   "execution_count": null,
   "metadata": {},
   "outputs": [],
   "source": [
    "# Label Encoder\n",
    "label_encoder = LabelEncoderWrapper(categorical_features)\n",
    "X_train = label_encoder.fit_transform(X_train, y_train)\n",
    "X_test = label_encoder.transform(X_test)\n",
    "\n",
    "# Standard Scaler\n",
    "scaler = StandardScalerWrapper(features=numerical_features)\n",
    "X_train = scaler.fit_transform(X_train)\n",
    "X_test = scaler.transform(X_test)\n",
    "\n",
    "\n",
    "# TabNet Regressor\n",
    "tabnet_regressor = TabNetRegressorPandasWrapper(\n",
    "    categorical_features=categorical_features,\n",
    "    n_d=64,  # from 8 to 64\n",
    "    n_a=64,  # equal n_d\n",
    "    n_steps=10,  # bwtween 3 and 10\n",
    "    gamma=2,  # between 1 and 2\n",
    "    n_independent=5,  # from 1 to 5\n",
    "    n_shared=5,  # from 1 to 5\n",
    "    seed=42,\n",
    "    verbose=1,\n",
    ")\n",
    "tabnet_regressor.fit(\n",
    "    X_train,\n",
    "    y_train,\n",
    "    max_epochs=5000,\n",
    "    eval_set=[\n",
    "        (X_train.values, y_train.values.reshape(-1, 1)),\n",
    "        (X_test.values, y_test.values.reshape(-1, 1)),\n",
    "    ],\n",
    "    eval_name=[\"train\", \"valid\"],\n",
    "    eval_metric=[\"mse\", MAPE],\n",
    "    patience=100,\n",
    "    batch_size=6588,\n",
    "    virtual_batch_size=3294,  # Has to divide batch_size\n",
    "    drop_last=False,\n",
    "    compute_importance=False,\n",
    ")\n",
    "\n",
    "print(\"dads\")"
   ]
  },
  {
   "cell_type": "code",
   "execution_count": null,
   "metadata": {},
   "outputs": [],
   "source": [
    "pd.DataFrame({\n",
    "    'true':y_test,\n",
    "    'pred':tabnet_regressor.predict(X_test)\n",
    "})"
   ]
  },
  {
   "cell_type": "markdown",
   "metadata": {},
   "source": [
    "## Submission file"
   ]
  },
  {
   "cell_type": "code",
   "execution_count": null,
   "metadata": {},
   "outputs": [],
   "source": [
    "# Label Encoder\n",
    "submission_data_2 = label_encoder.transform(submission_data)\n",
    "\n",
    "# Standard Scaler\n",
    "submission_data_2 = scaler.transform(submission_data_2)\n",
    "\n",
    "# TabNet Regressor\n",
    "submission_data[\"pred\"] = tabnet_regressor.predict(submission_data_2[X_train.columns])\n",
    "\n",
    "# Save predictions\n",
    "final_predictions = submission.merge(submission_data[[\"id\", \"pred\"]], left_on=\"id\", right_on=\"id\")\n",
    "final_predictions=final_predictions.drop(\"orders\", axis=1)\n",
    "final_predictions = final_predictions.set_index(\"id\")\n",
    "\n",
    "final_predictions"
   ]
  },
  {
   "cell_type": "code",
   "execution_count": null,
   "metadata": {},
   "outputs": [],
   "source": [
    "# final_predictions.to_csv('../data/submissions/tabnet_initial_submision_2.csv')"
   ]
  }
 ],
 "metadata": {
  "kernelspec": {
   "display_name": "rohlik_orders_forecasting_challenge",
   "language": "python",
   "name": "rohlik_orders_forecasting_challenge"
  },
  "language_info": {
   "codemirror_mode": {
    "name": "ipython",
    "version": 3
   },
   "file_extension": ".py",
   "mimetype": "text/x-python",
   "name": "python",
   "nbconvert_exporter": "python",
   "pygments_lexer": "ipython3",
   "version": "3.9.13"
  }
 },
 "nbformat": 4,
 "nbformat_minor": 2
}
